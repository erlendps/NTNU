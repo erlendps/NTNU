{
 "cells": [
  {
   "cell_type": "code",
   "execution_count": 7,
   "id": "fe7bb5ed",
   "metadata": {},
   "outputs": [],
   "source": [
    "# importing useful packages\n",
    "import numpy as np\n",
    "import sympy as sp\n",
    "import re\n",
    "\n",
    "# setting x equal to the symbol x\n",
    "x = sp.symbols(\"x\")"
   ]
  },
  {
   "cell_type": "markdown",
   "id": "e503f279",
   "metadata": {},
   "source": [
    "Given a set of $n+1$ datapoints ($x_i$, $y_i$), the interpolate-function returns a polynom p\n",
    "of $deg(p) = n$ that interpolates all of the $n+1$ datapoints. This function uses Newtons idea\n",
    "in which the polynom p is defined as $p(x) = \\sum_{i=0}^{n}c_i w_i(x)$ where $w_i$ is the\n",
    "omega function and $c_i$ is a constant and equal to the divided difference of $i+1$ values\n",
    "$[y_0, y_1, ..., y_{i+1}]$."
   ]
  },
  {
   "cell_type": "code",
   "execution_count": 8,
   "id": "37486bf7",
   "metadata": {},
   "outputs": [],
   "source": [
    "def interpolate(data_x, data_y):  \n",
    "    constants = np.array([])\n",
    "    c_0 = data_y[0]\n",
    "    c_1 = (data_y[1] - c_0)/(data_x[1] - data_x[0])\n",
    "    constants = np.append(constants, [c_0, c_1])\n",
    "    omegas = np.array([1])\n",
    "    omega_1 = x - data_x[0]\n",
    "    omegas = np.append(omegas, omega_1)\n",
    "\n",
    "    if (len(data_x) <= 2):\n",
    "        return;\n",
    "\n",
    "    for i in range(2, len(data_x)):\n",
    "        if (i == len(data_x) - 1):\n",
    "            c_i = divided_diff(data_x[0:], data_y[0:])\n",
    "        else:\n",
    "            c_i = divided_diff(data_x[0:i+1], data_y[0:i+1])\n",
    "        \n",
    "        constants = np.append(constants, c_i)\n",
    "        omega_i = omegas[i-1] * (x-data_x[i-1])\n",
    "        omegas = np.append(omegas, omega_i)\n",
    "\n",
    "    return sp.expand(np.dot(constants, omegas))"
   ]
  },
  {
   "cell_type": "code",
   "execution_count": 9,
   "id": "23be8cdf",
   "metadata": {},
   "outputs": [],
   "source": [
    "def divided_diff(data_x, values):\n",
    "    if (len(values) == 1):\n",
    "        return values[0]\n",
    "    else:\n",
    "        return ((divided_diff(data_x[1:], values[1:]) \n",
    "                 - divided_diff(data_x[0:-1],values[0:-1]))/(data_x[-1] - data_x[0]))"
   ]
  },
  {
   "cell_type": "code",
   "execution_count": 15,
   "id": "5cba4d1d",
   "metadata": {},
   "outputs": [
    {
     "name": "stdout",
     "output_type": "stream",
     "text": [
      "0.0124799999999998*x**5 - 125.693066666665*x**4 + 506293.75146666*x**3 - 1019529128.85412*x**2 + 1026369657797.55*x - 413243740768195.0\n"
     ]
    }
   ],
   "source": [
    "# main program\n",
    "\n",
    "if __name__ == \"__main__\":\n",
    "    data_x = [1976, 1981, 1986, 1991, 1996, 2001]\n",
    "    data_y = [4017101, 4092340, 4159187, 4249830, 4369957, 4503436]\n",
    "    \n",
    "    \"\"\"\n",
    "    num_inp = int(input(\"Number of data points (int): \"))\n",
    "    for i in range(1, num_inp+1):\n",
    "        inp = input(f\"Data point {i} (format: (x,y)): \")\n",
    "        inp = re.sub(\"[(|)]\", \"\", inp)\n",
    "        data_point = inp.split(\",\")\n",
    "        for i in range(2):\n",
    "            data_point[i] = data_point[i].strip()\n",
    "        data_x.append(float(data_point[0]))\n",
    "        data_y.append(float(data_point[1]))\n",
    "    \"\"\"\n",
    "    print(interpolate(data_x, data_y))\n",
    "    "
   ]
  },
  {
   "cell_type": "code",
   "execution_count": 21,
   "id": "88ce3750",
   "metadata": {},
   "outputs": [
    {
     "name": "stdout",
     "output_type": "stream",
     "text": [
      "Population in 1983: 4117633.75 \n",
      "Actual population: 4122511\n",
      "\n",
      "Population in 1999: 4450240.5 \n",
      "Actual population: 4445329\n",
      "\n",
      "Population in 2010: 4663065.0 \n",
      "Actual population: 4858199\n",
      "\n",
      "Population in 2020: 4412780.5 \n",
      "Actual population: 5367580\n",
      "\n"
     ]
    }
   ],
   "source": [
    "def f(x):\n",
    "    return (0.0124799999999998*x**5 \n",
    "            - 125.693066666665*x**4 \n",
    "            + 506293.75146666*x**3 \n",
    "            - 1019529128.85412*x**2 \n",
    "            + 1026369657797.55*x \n",
    "            - 413243740768195.0)\n",
    "\n",
    "print(\"Population in 1983:\", f(1983), \"\\nActual population: 4122511\\n\")\n",
    "print(\"Population in 1999:\", f(1999), \"\\nActual population: 4445329\\n\")\n",
    "print(\"Population in 2010:\", f(2010), \"\\nActual population: 4858199\\n\")\n",
    "print(\"Population in 2020:\", f(2020), \"\\nActual population: 5367580\\n\")"
   ]
  }
 ],
 "metadata": {
  "kernelspec": {
   "display_name": "Python 3",
   "language": "python",
   "name": "python3"
  },
  "language_info": {
   "codemirror_mode": {
    "name": "ipython",
    "version": 3
   },
   "file_extension": ".py",
   "mimetype": "text/x-python",
   "name": "python",
   "nbconvert_exporter": "python",
   "pygments_lexer": "ipython3",
   "version": "3.8.8"
  }
 },
 "nbformat": 4,
 "nbformat_minor": 5
}
