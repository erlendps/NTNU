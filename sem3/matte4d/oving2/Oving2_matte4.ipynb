{
 "cells": [
  {
   "cell_type": "code",
   "execution_count": 1,
   "id": "67bf36dc",
   "metadata": {},
   "outputs": [],
   "source": [
    "%matplotlib inline\n",
    "from numpy import *\n",
    "from matplotlib.pyplot import *\n",
    "from math import factorial\n",
    "import matplotlib.pyplot as plt\n",
    "newparams = {'figure.figsize': (8.0, 4.0), 'axes.grid': True,\n",
    "'lines.markersize': 8, 'lines.linewidth': 2,\n",
    "'font.size': 14}\n",
    "plt.rcParams.update(newparams)"
   ]
  },
  {
   "cell_type": "code",
   "execution_count": 9,
   "id": "137dafd4",
   "metadata": {},
   "outputs": [],
   "source": [
    "# composite simpsons rule\n",
    "def CSR(function, a, b, n):\n",
    "    h = (b-a)/n\n",
    "    x = linspace(a, b, n+1)\n",
    "    result = 0\n",
    "    for i in range(1, n+1):\n",
    "        result += function(x[i-1]) + 4*function((x[i-1] + x[i])/2) + function(x[i])\n",
    "    result = result * h/6\n",
    "    return result"
   ]
  },
  {
   "cell_type": "code",
   "execution_count": 3,
   "id": "8fac1811",
   "metadata": {},
   "outputs": [],
   "source": [
    "def f(x):\n",
    "    return tan((pi/4)*x)"
   ]
  },
  {
   "cell_type": "code",
   "execution_count": 13,
   "id": "d79f8df0",
   "metadata": {},
   "outputs": [
    {
     "name": "stdout",
     "output_type": "stream",
     "text": [
      "m = 4 : 0.441280049596664\n",
      "m = 8 : 0.4412717695321729\n",
      "m = 16 : 0.44127123615003055\n",
      "m = 32 : 0.4412712025498551\n",
      "m = 64 : 0.4412712004456543\n"
     ]
    }
   ],
   "source": [
    "for i in range(2, 7):\n",
    "    m = 2**i\n",
    "    print(\"m =\", m,\":\", CSR(f, 0, 1, m))"
   ]
  },
  {
   "cell_type": "code",
   "execution_count": 23,
   "id": "460fecd1",
   "metadata": {},
   "outputs": [
    {
     "name": "stdout",
     "output_type": "stream",
     "text": [
      "[[0.25, 4, 8.849291360801814e-06], [0.125, 8, 5.692268696955161e-07], [0.0625, 16, 3.5844727352962735e-08], [0.03125, 32, 2.2445518776947893e-09], [0.015625, 64, 1.4035111961518965e-10]]\n"
     ]
    }
   ],
   "source": [
    "answer = 2 * log(2)/pi\n",
    "errors = []\n",
    "steps = []\n",
    "tabulate = []\n",
    "\n",
    "for i in range(2, 7):\n",
    "    m = 2**i\n",
    "    h = 2**(-i)\n",
    "    steps.append(h)\n",
    "    errors.append(abs(answer - CSR(f, 0, 1, m)))\n",
    "    row = [h, m, errors[i-2]]\n",
    "    tabulate.append(row)\n",
    "\n",
    "print(tabulate)"
   ]
  },
  {
   "cell_type": "code",
   "execution_count": 32,
   "id": "46f78f71",
   "metadata": {},
   "outputs": [
    {
     "name": "stderr",
     "output_type": "stream",
     "text": [
      "/tmp/ipykernel_161719/2022188119.py:5: MatplotlibDeprecationWarning: The 'basex' parameter of __init__() has been renamed 'base' since Matplotlib 3.3; support for the old name will be dropped two minor releases later.\n",
      "  plt.loglog(basex=2, basey=2)\n",
      "/tmp/ipykernel_161719/2022188119.py:5: MatplotlibDeprecationWarning: The 'basey' parameter of __init__() has been renamed 'base' since Matplotlib 3.3; support for the old name will be dropped two minor releases later.\n",
      "  plt.loglog(basex=2, basey=2)\n"
     ]
    },
    {
     "data": {
      "image/png": "[encoded data removed]",
      "text/plain": [
       "<Figure size 576x288 with 1 Axes>"
      ]
     },
     "metadata": {
      "needs_background": "light"
     },
     "output_type": "display_data"
    }
   ],
   "source": [
    "plt.title(\"Composite Simpons Rule errors\")\n",
    "plt.xlabel(\"Errors\")\n",
    "plt.ylabel(\"h\")\n",
    "plt.plot(errors, steps)\n",
    "plt.loglog(basex=2, basey=2)\n",
    "plt.show()"
   ]
  },
  {
   "cell_type": "markdown",
   "id": "a44a5fe0",
   "metadata": {},
   "source": [
    "$log_2-log_2$ plottet har ca stigningstall 4, som tyder på at konvergensen er av grad 4"
   ]
  },
  {
   "cell_type": "code",
   "execution_count": 41,
   "id": "fa2728d5",
   "metadata": {},
   "outputs": [],
   "source": [
    "def g(x):\n",
    "    return sqrt(1-x**2)"
   ]
  },
  {
   "cell_type": "code",
   "execution_count": 43,
   "id": "1fb63a32",
   "metadata": {},
   "outputs": [
    {
     "name": "stdout",
     "output_type": "stream",
     "text": [
      "m = 4 : 0.7802972924438545\n",
      "m = 8 : 0.7835994172461493\n",
      "m = 16 : 0.7847630544733984\n",
      "m = 32 : 0.7851737690201337\n",
      "m = 64 : 0.7853188547338977\n"
     ]
    }
   ],
   "source": [
    "for i in range(2, 7):\n",
    "    m = 2**i\n",
    "    print(\"m =\", m,\":\", CSR(g, 0, 1, m))"
   ]
  },
  {
   "cell_type": "code",
   "execution_count": 47,
   "id": "9d3b4bb6",
   "metadata": {},
   "outputs": [
    {
     "name": "stdout",
     "output_type": "stream",
     "text": [
      "[[0.25, 4, 0.005100870953593795], [0.125, 8, 0.0017987461512989356], [0.0625, 16, 0.000635108924049832], [0.03125, 32, 0.00022439437731458511], [0.015625, 64, 7.9308663550548e-05]]\n"
     ]
    }
   ],
   "source": [
    "answer = pi/4\n",
    "errors = []\n",
    "steps = []\n",
    "tabulate = []\n",
    "\n",
    "for i in range(2, 7):\n",
    "    m = 2**i\n",
    "    h = 2**(-i)\n",
    "    steps.append(h)\n",
    "    errors.append(abs(answer - CSR(g, 0, 1, m)))\n",
    "    row = [h, m, errors[i-2]]\n",
    "    tabulate.append(row)\n",
    "\n",
    "print(tabulate)"
   ]
  },
  {
   "cell_type": "code",
   "execution_count": 48,
   "id": "5cc17b9b",
   "metadata": {},
   "outputs": [
    {
     "name": "stderr",
     "output_type": "stream",
     "text": [
      "/tmp/ipykernel_161719/2022188119.py:5: MatplotlibDeprecationWarning: The 'basex' parameter of __init__() has been renamed 'base' since Matplotlib 3.3; support for the old name will be dropped two minor releases later.\n",
      "  plt.loglog(basex=2, basey=2)\n",
      "/tmp/ipykernel_161719/2022188119.py:5: MatplotlibDeprecationWarning: The 'basey' parameter of __init__() has been renamed 'base' since Matplotlib 3.3; support for the old name will be dropped two minor releases later.\n",
      "  plt.loglog(basex=2, basey=2)\n"
     ]
    },
    {
     "data": {
      "image/png": "[encoded data removed]",
      "text/plain": [
       "<Figure size 576x288 with 1 Axes>"
      ]
     },
     "metadata": {
      "needs_background": "light"
     },
     "output_type": "display_data"
    }
   ],
   "source": [
    "plt.title(\"Composite Simpons Rule errors\")\n",
    "plt.xlabel(\"Errors\")\n",
    "plt.ylabel(\"h\")\n",
    "plt.plot(errors, steps)\n",
    "plt.loglog(basex=2, basey=2)\n",
    "plt.show()"
   ]
  },
  {
   "cell_type": "markdown",
   "id": "6cf26ac0",
   "metadata": {},
   "source": [
    "Stigningstallet er mye lavere enn i b). Dette kommer nok av at i nærheten av 1 går den deriverte av funksjonen mot uendelig. "
   ]
  },
  {
   "cell_type": "code",
   "execution_count": null,
   "id": "100831a0",
   "metadata": {},
   "outputs": [],
   "source": []
  },
  {
   "cell_type": "code",
   "execution_count": null,
   "id": "f388d297",
   "metadata": {},
   "outputs": [],
   "source": []
  }
 ],
 "metadata": {
  "kernelspec": {
   "display_name": "Python 3",
   "language": "python",
   "name": "python3"
  },
  "language_info": {
   "codemirror_mode": {
    "name": "ipython",
    "version": 3
   },
   "file_extension": ".py",
   "mimetype": "text/x-python",
   "name": "python",
   "nbconvert_exporter": "python",
   "pygments_lexer": "ipython3",
   "version": "3.8.8"
  }
 },
 "nbformat": 4,
 "nbformat_minor": 5
}
