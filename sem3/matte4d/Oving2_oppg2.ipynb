{
 "cells": [
  {
   "cell_type": "code",
   "execution_count": 2,
   "id": "a4a49c49",
   "metadata": {},
   "outputs": [
    {
     "name": "stdout",
     "output_type": "stream",
     "text": [
      "-3/2\n"
     ]
    }
   ],
   "source": [
    "from sympy.abc import x\n",
    "from sympy import integrate\n",
    "a=-2\n",
    "b=1\n",
    "#Define the inner poduct\n",
    "def scp(p,q):\n",
    "    return integrate(p*q, (x, a, b))\n",
    "#Define polynomials\n",
    "p0 = 1\n",
    "phi1 = x\n",
    "#Calculate the inner product and print it.\n",
    "print(scp(p0,phi1))"
   ]
  },
  {
   "cell_type": "code",
   "execution_count": 34,
   "id": "34fa5d8f",
   "metadata": {},
   "outputs": [
    {
     "name": "stdout",
     "output_type": "stream",
     "text": [
      "0\n",
      "0\n",
      "0\n",
      "0\n",
      "0\n",
      "0\n"
     ]
    }
   ],
   "source": [
    "p1 = x + 1.0/2\n",
    "phi2 = x**2\n",
    "p2 = x**2 + x - 1.0/2\n",
    "phi3 = x**3\n",
    "p3 = x**3 + 3.0/2 * x**2 - 3.0/5 * x - 11.0/20\n",
    "tr = 10**(-10)\n",
    "\n",
    "print(0 if scp(p0, p1) < tr else scp(p0, p1))\n",
    "print(0 if scp(p0, p2) < tr else scp(p0, p2))\n",
    "print(0 if scp(p0, p3) < tr else scp(p0, p3))\n",
    "print(0 if scp(p1, p2) < tr else scp(p1, p2))\n",
    "print(0 if scp(p1, p3) < tr else scp(p1, p3))\n",
    "print(0 if scp(p2, p3) < tr else scp(p2, p3))"
   ]
  }
 ],
 "metadata": {
  "kernelspec": {
   "display_name": "Python 3 (ipykernel)",
   "language": "python",
   "name": "python3"
  },
  "language_info": {
   "codemirror_mode": {
    "name": "ipython",
    "version": 3
   },
   "file_extension": ".py",
   "mimetype": "text/x-python",
   "name": "python",
   "nbconvert_exporter": "python",
   "pygments_lexer": "ipython3",
   "version": "3.8.10"
  }
 },
 "nbformat": 4,
 "nbformat_minor": 5
}
