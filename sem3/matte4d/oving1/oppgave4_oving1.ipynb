{
 "cells": [
  {
   "cell_type": "code",
   "execution_count": 1,
   "id": "10cdd6fd",
   "metadata": {},
   "outputs": [],
   "source": [
    "# importing useful packages\n",
    "import numpy as np\n",
    "import sympy as sp\n",
    "import re\n",
    "\n",
    "# setting x equal to the symbol x\n",
    "x = sp.symbols(\"x\")"
   ]
  },
  {
   "cell_type": "code",
   "execution_count": 3,
   "id": "b5271f6e",
   "metadata": {},
   "outputs": [],
   "source": [
    "def divided_diff(data_x, values):\n",
    "    if (len(values) == 1):\n",
    "        return values[0]\n",
    "    else:\n",
    "        return ((divided_diff(data_x[1:], values[1:]) \n",
    "                 - divided_diff(data_x[0:-1],values[0:-1]))/(data_x[-1] - data_x[0]))"
   ]
  },
  {
   "cell_type": "code",
   "execution_count": 4,
   "id": "ad13a38d",
   "metadata": {},
   "outputs": [],
   "source": [
    "def interpolate(data_x, data_y):  \n",
    "    constants = np.array([])\n",
    "    c_0 = data_y[0]\n",
    "    c_1 = (data_y[1] - c_0)/(data_x[1] - data_x[0])\n",
    "    constants = np.append(constants, [c_0, c_1])\n",
    "    omegas = np.array([1])\n",
    "    omega_1 = x - data_x[0]\n",
    "    omegas = np.append(omegas, omega_1)\n",
    "\n",
    "    if (len(data_x) <= 2):\n",
    "        return;\n",
    "\n",
    "    for i in range(2, len(data_x)):\n",
    "        if (i == len(data_x) - 1):\n",
    "            c_i = divided_diff(data_x[0:], data_y[0:])\n",
    "        else:\n",
    "            c_i = divided_diff(data_x[0:i+1], data_y[0:i+1])\n",
    "        \n",
    "        constants = np.append(constants, c_i)\n",
    "        omega_i = omegas[i-1] * (x-data_x[i-1])\n",
    "        omegas = np.append(omegas, omega_i)\n",
    "\n",
    "    return sp.expand(np.dot(constants, omegas))"
   ]
  },
  {
   "cell_type": "code",
   "execution_count": 6,
   "id": "e90a8ab3",
   "metadata": {},
   "outputs": [],
   "source": [
    "# main program\n",
    "\n",
    "def main():\n",
    "    data_x = []\n",
    "    data_y = []\n",
    "    \n",
    "    num_inp = int(input(\"Number of data points (int): \"))\n",
    "    for i in range(1, num_inp+1):\n",
    "        inp = input(f\"Data point {i} (format: (x,y)): \")\n",
    "        inp = re.sub(\"[(|)]\", \"\", inp)\n",
    "        data_point = inp.split(\",\")\n",
    "        for i in range(2):\n",
    "            data_point[i] = data_point[i].strip()\n",
    "        data_x.append(float(data_point[0]))\n",
    "        data_y.append(float(data_point[1]))\n",
    "    print(interpolate(data_x, data_y))"
   ]
  },
  {
   "cell_type": "code",
   "execution_count": 7,
   "id": "d96593ca",
   "metadata": {},
   "outputs": [
    {
     "name": "stdout",
     "output_type": "stream",
     "text": [
      "Number of data points (int): 5\n",
      "Data point 1 (format: (x,y)): (2.074, 1.812)\n",
      "Data point 2 (format: (x,y)): (2.618, 1.106)\n",
      "Data point 3 (format: (x,y)): (3.5, 1.189)\n",
      "Data point 4 (format: (x,y)): (4.382, 3.758)\n",
      "Data point 5 (format: (x,y)): (4.927, 13.12)\n",
      "1.18052907259596*x**4 - 14.5745806134148*x**3 + 66.9436901695421*x**2 - 135.466478760135*x + 102.993470927311\n"
     ]
    }
   ],
   "source": [
    "# 4b, interpolating f(x) on the chebyshev nodes\n",
    "main()"
   ]
  },
  {
   "cell_type": "markdown",
   "id": "3a8987c9",
   "metadata": {},
   "source": [
    "#### Kommentar\n",
    "Det vil si at polynomet i oppgave 4b er $p_c(x)=1.181*x^4 - 14.57*x^3+66.94*x^2-135.5*x+103.0$"
   ]
  },
  {
   "cell_type": "code",
   "execution_count": 8,
   "id": "e5b9f1ce",
   "metadata": {},
   "outputs": [
    {
     "name": "stdout",
     "output_type": "stream",
     "text": [
      "Number of data points (int): 5\n",
      "Data point 1 (format: (x,y)): (2,2)\n",
      "Data point 2 (format: (x,y)): (2.75, 1.044)\n",
      "Data point 3 (format: (x,y)): (3.5, 1.189)\n",
      "Data point 4 (format: (x,y)): (4.25, 2.954)\n",
      "Data point 5 (format: (x,y)): (5, 16)\n",
      "1.20388477366255*x**4 - 14.8435226337449*x**3 + 68.1342716049383*x**2 - 137.76446090535*x + 104.477860082305\n"
     ]
    }
   ],
   "source": [
    "# 4c, interpolating f(x) on the equidistributed nodes\n",
    "main()"
   ]
  },
  {
   "cell_type": "markdown",
   "id": "1bf5f776",
   "metadata": {},
   "source": [
    "#### Kommentar\n",
    "Det vil si at polynomet i oppgave 4c er $p_{eq}(x)=1.204*x^4-14.84*x^3+68.13*x^2-137.8*x+104.5$"
   ]
  },
  {
   "cell_type": "markdown",
   "id": "f75c27c8",
   "metadata": {},
   "source": [
    "Vi vil nå plotte to grafer. Den ene grafen inneholder $d_c(x)= p_c(x) - f(x)$, mens den andre inneholder $d_{eq}(x)=p_{eq}(x) - f(x)$. Samtidig vil også største forskjell bli skrevet ut (globalt toppunkt)."
   ]
  },
  {
   "cell_type": "code",
   "execution_count": 19,
   "id": "e65d482d",
   "metadata": {
    "scrolled": true
   },
   "outputs": [
    {
     "name": "stdout",
     "output_type": "stream",
     "text": [
      "Største error for p_c: 1.0688990920123072\n",
      "Største error for p_eq: 1.4701654998293758\n"
     ]
    },
    {
     "data": {
      "image/png": "[encoded data removed]",
      "text/plain": [
       "<Figure size 432x288 with 2 Axes>"
      ]
     },
     "metadata": {
      "needs_background": "light"
     },
     "output_type": "display_data"
    }
   ],
   "source": [
    "# importerer matplotlib\n",
    "import matplotlib.pyplot as plt\n",
    "\n",
    "def f(x):\n",
    "    return 2**(x**2-6*x+9)\n",
    "\n",
    "def p_c(x):\n",
    "    return 1.181*x**4 - 14.57*x**3 + 66.94*x**2 - 135.5*x + 103\n",
    "\n",
    "def p_eq(x):\n",
    "    return 1.204*x**4 - 14.84*x**3 + 68.13*x**2 - 137.76*x + 104.5\n",
    "\n",
    "def d_c(x):\n",
    "    return p_c(x) - f(x)\n",
    "\n",
    "def d_eq(x):\n",
    "    return p_eq(x) - f(x)\n",
    "\n",
    "\n",
    "x = np.linspace(2, 5, 100)\n",
    "\n",
    "y_c = np.array([])\n",
    "y_eq = np.array([])\n",
    "max_diff_c = 0\n",
    "max_diff_eq = 0\n",
    "\n",
    "for num in x:\n",
    "    num_c = d_c(num)\n",
    "    num_eq = d_eq(num)\n",
    "    \n",
    "    if (abs(num_c) > max_diff_c):\n",
    "        max_diff_c = num_c\n",
    "    if (abs(num_eq) > max_diff_eq):\n",
    "        max_diff_eq = num_eq\n",
    "    \n",
    "    y_c = np.append(y_c, num_c)\n",
    "    y_eq = np.append(y_eq, num_eq)\n",
    "\n",
    "    \n",
    "fig, (ax1, ax2) = plt.subplots(1, 2)\n",
    "fig.subplots_adjust(right=2)\n",
    "# plot 1\n",
    "ax1.plot(x, y_c)\n",
    "ax1.set_xlabel(\"x\")\n",
    "ax1.set_ylabel(\"d_c(x)\")\n",
    "ax1.set_title(\"p_c(x) - f(x)\")\n",
    "ax1.axhline()\n",
    "\n",
    "\n",
    "#plot 2\n",
    "ax2.plot(x, y_eq)\n",
    "ax2.set_xlabel(\"x\")\n",
    "ax2.set_ylabel(\"d_eq(x)\")\n",
    "ax2.set_title(\"p_eq(x) - f(x)\")\n",
    "ax2.axhline()\n",
    "\n",
    "print(\"Største error for p_c:\", max_diff_c)\n",
    "print(\"Største error for p_eq:\", max_diff_eq)"
   ]
  },
  {
   "cell_type": "markdown",
   "id": "6575973b",
   "metadata": {},
   "source": [
    "Som vi kan se er den største erroren for $p_c(x)$ betydelig mindre enn for $p_{eq}(x)$"
   ]
  }
 ],
 "metadata": {
  "kernelspec": {
   "display_name": "Python 3",
   "language": "python",
   "name": "python3"
  },
  "language_info": {
   "codemirror_mode": {
    "name": "ipython",
    "version": 3
   },
   "file_extension": ".py",
   "mimetype": "text/x-python",
   "name": "python",
   "nbconvert_exporter": "python",
   "pygments_lexer": "ipython3",
   "version": "3.8.8"
  }
 },
 "nbformat": 4,
 "nbformat_minor": 5
}
